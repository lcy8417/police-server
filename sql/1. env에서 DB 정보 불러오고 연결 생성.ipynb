{
 "cells": [
  {
   "cell_type": "markdown",
   "id": "3d15ba54",
   "metadata": {},
   "source": [
    "##### 1. env에서 DB 정보 불러오고 연결 생성\n"
   ]
  },
  {
   "cell_type": "code",
   "execution_count": 3,
   "id": "658d89a4",
   "metadata": {},
   "outputs": [],
   "source": [
    "from sqlalchemy import create_engine, text\n",
    "from dotenv import load_dotenv\n",
    "from sqlalchemy.pool import QueuePool\n",
    "import os\n",
    "\n",
    "load_dotenv()\n",
    "\n",
    "DATABASE_CONN = os.getenv(\"DATABASE_CONN\")"
   ]
  },
  {
   "cell_type": "code",
   "execution_count": 4,
   "id": "b7ef2055",
   "metadata": {},
   "outputs": [],
   "source": [
    "engine = create_engine(\n",
    "    DATABASE_CONN,  # echo=True,\n",
    "    poolclass=QueuePool,\n",
    "    # poolclass=NullPool, # Connection Pool 사용하지 않음.\n",
    "    pool_size=10,\n",
    "    max_overflow=0,\n",
    "    pool_recycle=300,\n",
    ")"
   ]
  },
  {
   "cell_type": "markdown",
   "id": "e56d52e5",
   "metadata": {},
   "source": [
    "##### 2. patterns_path 폴더내에서 패턴 정보가 포함된 .txt 파일들 모두 불러와서 정보 DB 삽입\n",
    "\n",
    "- 선행적으로 행 정보 모두 삭제\n",
    "\n",
    "- 다음으로 상, 중, 하, 윤곽 정보 db에 정보 삽입\n"
   ]
  },
  {
   "cell_type": "code",
   "execution_count": 6,
   "id": "a8d4c3d9",
   "metadata": {},
   "outputs": [
    {
     "name": "stdout",
     "output_type": "stream",
     "text": [
      "모든 행이 삭제되었습니다.\n"
     ]
    }
   ],
   "source": [
    "# 테이블 모든 행 삭제\n",
    "delete_query = \"DELETE FROM shoes_data\"\n",
    "\n",
    "try:\n",
    "    with engine.connect() as conn:\n",
    "        conn.execute(text(delete_query))\n",
    "        conn.commit()\n",
    "        print(\"모든 행이 삭제되었습니다.\")\n",
    "except Exception as e:\n",
    "    print(f\"삭제 중 오류 발생: {e}\")"
   ]
  },
  {
   "cell_type": "code",
   "execution_count": 16,
   "id": "fa71371d",
   "metadata": {},
   "outputs": [
    {
     "name": "stderr",
     "output_type": "stream",
     "text": [
      "100%|██████████| 76673/76673 [06:25<00:00, 198.72it/s]"
     ]
    },
    {
     "name": "stdout",
     "output_type": "stream",
     "text": [
      "모든 데이터가 성공적으로 삽입되었습니다.\n"
     ]
    },
    {
     "name": "stderr",
     "output_type": "stream",
     "text": [
      "\n"
     ]
    }
   ],
   "source": [
    "from glob import glob\n",
    "from tqdm import tqdm\n",
    "import json\n",
    "\n",
    "patterns_path = r\"../data/P/*.txt\"  # .txt 파일만 대상\n",
    "\n",
    "patterns_info = sorted(\n",
    "    glob(patterns_path), key=lambda x: int(x.split(\"\\\\\")[-1].replace(\".txt\", \"\"))\n",
    ")\n",
    "\n",
    "query = \"\"\"\n",
    "INSERT INTO shoes_data (\n",
    "image, model_number, top, mid, bottom, outline) VALUES (\n",
    "    :image, :model_number, :top, :mid, :bottom, :outline\n",
    ")\n",
    "\"\"\"\n",
    "\n",
    "for file_path in tqdm(patterns_info):\n",
    "    model_number = file_path.split(\"\\\\\")[-1].replace(\".txt\", \"\")\n",
    "\n",
    "    with open(file_path, \"r\", encoding=\"CP949\") as f:\n",
    "        content = f.read().split()  # 파일 전체 읽기\n",
    "\n",
    "    top, mid, bottom, outline = [], [], [], []\n",
    "    i, pointer = 0, 1\n",
    "\n",
    "    for partial in [top, mid, bottom, outline]:\n",
    "        while i < len(content) and pointer < 5:\n",
    "            if content[i].startswith(str(pointer)):\n",
    "                partial.append(content[i][2:].strip())\n",
    "                i += 1\n",
    "            else:\n",
    "                pointer += 1\n",
    "                break\n",
    "\n",
    "    # DB에 데이터 저장\n",
    "    try:\n",
    "        with engine.connect() as conn:\n",
    "            conn.execute(\n",
    "                text(query),\n",
    "                {\n",
    "                    'image': model_number,\n",
    "                    \"model_number\": model_number,\n",
    "                    \"top\": json.dumps(top) if top else json.dumps([]),\n",
    "                    \"mid\": json.dumps(mid) if mid else json.dumps([]),\n",
    "                    \"bottom\": json.dumps(bottom) if bottom else json.dumps([]),\n",
    "                    \"outline\": json.dumps(outline) if outline else json.dumps([]),\n",
    "                },\n",
    "            )\n",
    "            conn.commit()\n",
    "    except Exception as e:\n",
    "        print(f\"Error processing {model_number}: {e}\")\n",
    "        break\n",
    "else:\n",
    "    print(f\"모든 데이터가 성공적으로 삽입되었습니다.\")"
   ]
  },
  {
   "cell_type": "code",
   "execution_count": null,
   "id": "89e061f7",
   "metadata": {},
   "outputs": [],
   "source": []
  }
 ],
 "metadata": {
  "kernelspec": {
   "display_name": "police-fastapi-py310",
   "language": "python",
   "name": "python3"
  },
  "language_info": {
   "codemirror_mode": {
    "name": "ipython",
    "version": 3
   },
   "file_extension": ".py",
   "mimetype": "text/x-python",
   "name": "python",
   "nbconvert_exporter": "python",
   "pygments_lexer": "ipython3",
   "version": "3.10.18"
  }
 },
 "nbformat": 4,
 "nbformat_minor": 5
}
